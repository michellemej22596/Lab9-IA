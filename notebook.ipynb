{
 "cells": [
  {
   "cell_type": "markdown",
   "id": "e3cacb37",
   "metadata": {},
   "source": [
    "# Laboratorio 9 - Algoritmo Forward Backward en HMM\n",
    "\n",
    "#### Michelle Mejía y Silvia Illescas\n",
    "\n"
   ]
  },
  {
   "cell_type": "markdown",
   "id": "4aadbb01",
   "metadata": {},
   "source": [
    "------------------\n"
   ]
  },
  {
   "cell_type": "markdown",
   "id": "c9a97154",
   "metadata": {},
   "source": [
    "### Task 1\n"
   ]
  },
  {
   "cell_type": "markdown",
   "id": "52098d2e",
   "metadata": {},
   "source": [
    "1. Diga cual es la diferencia entre Modelos de Markov y Hidden Markov Models\n",
    "\n",
    "Modelo de Markov: Es un modelo estadístico que predice el estado futuro de un sistema basado únicamente en el estado actual, sin tener en cuenta los estados anteriores. Es decir, el futuro depende solo del presente y no del pasado (propiedad de \"memoria corta\"). Se utiliza en sistemas donde los estados son observables.\n",
    "\n",
    "Modelo de Markov Oculto (HMM): Es una extensión del modelo de Markov donde los estados no son directamente observables. En lugar de eso, el modelo genera observaciones que están relacionadas con los estados ocultos. En un HMM, hay una secuencia de estados ocultos que se pueden inferir a partir de observaciones visibles, y el modelo asume que la transición entre estos estados ocultos sigue las reglas de un proceso de Markov."
   ]
  },
  {
   "cell_type": "markdown",
   "id": "0faa6da2",
   "metadata": {},
   "source": [
    "2. Investigue qué son los factorial HMM (Hidden Markov Models)\n",
    "\n",
    "Un Factorial Hidden Markov Model (FHMM) es una extensión del modelo de Markov oculto (HMM) donde se modelan múltiples cadenas de Markov simultáneamente. Cada cadena representa un proceso de Markov independiente, pero todos ellos comparten las mismas observaciones, lo que permite modelar interacciones complejas entre diferentes procesos. Es especialmente útil en problemas donde se requiere modelar múltiples fuentes de variabilidad o donde los estados observados dependen de varios factores."
   ]
  },
  {
   "cell_type": "markdown",
   "id": "c7e9488d",
   "metadata": {},
   "source": [
    "3. Especifique en sus propias palabras el algoritmo Forward Backward para HMM\n",
    "\n",
    "El algoritmo Forward-Backward es un algoritmo utilizado en los Modelos de Markov Ocultos (HMM) para calcular la probabilidad de las secuencias observadas y para inferir la secuencia de estados ocultos más probable.\n",
    "\n",
    "Paso Forward: En este paso, se calcula la probabilidad de llegar a cada estado oculto en el tiempo t dado las observaciones hasta ese momento. Se utiliza la probabilidad acumulada de las observaciones anteriores para calcular la probabilidad de los estados actuales.\n",
    "\n",
    "Paso Backward: En este paso, se calcula la probabilidad de las observaciones futuras dado un estado oculto en el tiempo t. Esto se hace trabajando desde el último paso hacia atrás, utilizando las probabilidades de las observaciones futuras para actualizar la probabilidad de estar en un estado oculto en cualquier punto dado.\n",
    "\n",
    "Este algoritmo se usa comúnmente en tareas como la decodificación y en la estimación de parámetros."
   ]
  },
  {
   "cell_type": "markdown",
   "id": "35929b26",
   "metadata": {},
   "source": [
    "4. En el algoritmo de Forward Backward, por qué es necesario el paso de Backward (puede escribir ejemplos\n",
    "o casos para responder esta pregunta)\n",
    "\n",
    "El paso Backward es necesario porque, aunque el algoritmo Forward permite calcular la probabilidad de las observaciones pasadas, solo el paso Backward puede capturar la información sobre las observaciones futuras. Al combinar ambos pasos, se obtiene una estimación más precisa de las probabilidades de estar en un determinado estado en un momento dado.\n",
    "\n",
    "Ejemplo de por qué es necesario el paso de Backward: Siguiendo el Task2, al estar modelando el clima con dos estados posibles: soleado y lluvioso. Si tenemos una secuencia de observaciones como \"soleado, lluvioso, lluvioso\", el algoritmo Forward solo podría calcular la probabilidad de que la primera observación haya sido soleada, pero el paso Backward permite ajustar esa probabilidad al considerar las observaciones futuras, es decir, que después de un \"soleado\" es más probable que venga un \"lluvioso\". Sin este paso, no obtendríamos una visión completa del sistema, ya que no se considerarían todas las observaciones en la secuencia."
   ]
  },
  {
   "cell_type": "markdown",
   "id": "3b02feb5",
   "metadata": {},
   "source": [
    "--------------"
   ]
  },
  {
   "cell_type": "markdown",
   "id": "a3196930",
   "metadata": {},
   "source": [
    "### Task 2\n"
   ]
  },
  {
   "cell_type": "code",
   "execution_count": 2,
   "id": "03798ef9",
   "metadata": {},
   "outputs": [
    {
     "name": "stdout",
     "output_type": "stream",
     "text": [
      "Secuencia Generada: ['sunny', 'rainy', 'sunny', 'sunny', 'sunny']\n",
      "\n",
      "Probabilidades Forward:\n",
      "[{'Sunny': 0.54, 'Rainy': 0.08000000000000002}, {'Sunny': 0.04640000000000001, 'Rainy': 0.12480000000000002}, {'Sunny': 0.07833600000000002, 'Rainy': 0.016832000000000003}, {'Sunny': 0.06246144000000001, 'Rainy': 0.0051532800000000005}, {'Sunny': 0.04682741760000001, 'Rainy': 0.003116851200000001}]\n",
      "\n",
      "Probabilidades Backward:\n",
      "[{'Sunny': 0.07266816000000004, 'Rainy': 0.13379328000000001}, {'Sunny': 0.4210560000000001, 'Rainy': 0.24364800000000006}, {'Sunny': 0.5664000000000001, 'Rainy': 0.33120000000000005}, {'Sunny': 0.7600000000000001, 'Rainy': 0.48000000000000004}, {'Sunny': 1, 'Rainy': 1}]\n",
      "\n",
      "Probabilidades de Estados:\n",
      "[{'Sunny': 0.7856918790249664, 'Rainy': 0.21430812097503366}, {'Sunny': 0.3911759821379145, 'Rainy': 0.6088240178620855}, {'Sunny': 0.8883804181351834, 'Rainy': 0.11161958186481648}, {'Sunny': 0.9504733083608585, 'Rainy': 0.04952669163914159}, {'Sunny': 0.9375934161238536, 'Rainy': 0.06240658387614637}]\n"
     ]
    }
   ],
   "source": [
    "class HMM:\n",
    "    def __init__(self, states, observations, initial_prob, transition_prob, emission_prob):\n",
    "        # Inicializar parámetros de HMM\n",
    "        self.states = states\n",
    "        self.observations = observations\n",
    "        self.initial_prob = initial_prob\n",
    "        self.transition_prob = transition_prob\n",
    "        self.emission_prob = emission_prob\n",
    "\n",
    "    def generate_sequence(self, length):\n",
    "        # Generar una secuencia de observaciones basada en el HMM\n",
    "        sequence = []\n",
    "        state = np.random.choice(self.states, p=list(self.initial_prob.values()))\n",
    "        for _ in range(length):\n",
    "            sequence.append(np.random.choice(self.observations, p=list(self.emission_prob[state].values())))\n",
    "            state = np.random.choice(self.states, p=list(self.transition_prob[state].values()))\n",
    "        return sequence\n",
    "\n",
    "    def forward(self, observations):\n",
    "        # Implementar el paso hacia adelante del algoritmo hacia atrás-adelante\n",
    "        alpha = [{}]\n",
    "        for state in self.states:\n",
    "            alpha[0][state] = self.initial_prob[state] * self.emission_prob[state][observations[0]]\n",
    "\n",
    "        for t in range(1, len(observations)):\n",
    "            alpha.append({})\n",
    "            for curr_state in self.states:\n",
    "                alpha[t][curr_state] = sum(\n",
    "                    alpha[t - 1][prev_state] * self.transition_prob[prev_state][curr_state] for prev_state in self.states\n",
    "                ) * self.emission_prob[curr_state][observations[t]]\n",
    "        return alpha\n",
    "\n",
    "    def backward(self, observations):\n",
    "        # Implementar el paso hacia atrás del algoritmo hacia atrás-adelante\n",
    "        beta = [{} for _ in range(len(observations))]\n",
    "        for state in self.states:\n",
    "            beta[-1][state] = 1  # paso base\n",
    "\n",
    "        for t in reversed(range(len(observations) - 1)):\n",
    "            for curr_state in self.states:\n",
    "                beta[t][curr_state] = sum(\n",
    "                    self.transition_prob[curr_state][next_state] *\n",
    "                    self.emission_prob[next_state][observations[t + 1]] *\n",
    "                    beta[t + 1][next_state]\n",
    "                    for next_state in self.states\n",
    "                )\n",
    "        return beta\n",
    "\n",
    "    def compute_state_probabilities(self, observations):\n",
    "        # Combina probabilidades hacia adelante y hacia atrás para calcular probabilidades de estado\n",
    "        alpha = self.forward(observations)\n",
    "        beta = self.backward(observations)\n",
    "        probs = []\n",
    "\n",
    "        for t in range(len(observations)):\n",
    "            total = sum(alpha[t][s] * beta[t][s] for s in self.states)\n",
    "            probs.append({s: (alpha[t][s] * beta[t][s]) / total for s in self.states})\n",
    "\n",
    "        return probs\n",
    "\n",
    "# Uso y datos\n",
    "states = ['Sunny', 'Rainy']\n",
    "observations = ['sunny', 'rainy']\n",
    "initial_prob = {'Sunny': 0.6, 'Rainy': 0.4}\n",
    "transition_prob = {'Sunny': {'Sunny': 0.8, 'Rainy': 0.2}, 'Rainy': {'Sunny': 0.4, 'Rainy': 0.6}}\n",
    "emission_prob = {'Sunny': {'sunny': 0.9, 'rainy': 0.1}, 'Rainy': {'sunny': 0.2, 'rainy': 0.8}}\n",
    "\n",
    "hmm = HMM(states, observations, initial_prob, transition_prob, emission_prob)\n",
    "\n",
    "# Generar una secuencia de observaciones.\n",
    "obs_sequence = hmm.generate_sequence(5)\n",
    "print(\"Secuencia Generada:\", obs_sequence)\n",
    "\n",
    "# Cálculo de probabilidades forward\n",
    "forward_probs = hmm.forward(obs_sequence)\n",
    "print(\"\\nProbabilidades Forward:\")\n",
    "print(forward_probs)\n",
    "\n",
    "# Cálculo de probabilidades backward\n",
    "backward_probs = hmm.backward(obs_sequence)\n",
    "print(\"\\nProbabilidades Backward:\")\n",
    "print(backward_probs)\n",
    "\n",
    "# Calcular probabilidades de estado\n",
    "state_probs = hmm.compute_state_probabilities(obs_sequence)\n",
    "print(\"\\nProbabilidades de Estados:\")\n",
    "print(state_probs)\n"
   ]
  },
  {
   "cell_type": "markdown",
   "id": "f4e159dd",
   "metadata": {},
   "source": [
    "El código implementa un modelo de Markov oculto (HMM) que genera secuencias de observaciones basadas en probabilidades iniciales, de transición y de emisión definidas. Se utiliza para modelar sistemas en los que los estados no son observables directamente, pero influyen en las observaciones que se reciben. En este caso, el modelo tiene dos estados posibles, \"Sunny\" (soleado) y \"Rainy\" (lluvioso), con probabilidades de transición y emisión específicas para cada uno. El algoritmo Forward calcula las probabilidades acumuladas de los estados a medida que se observan los eventos, mientras que el algoritmo Backward calcula las probabilidades de observar el futuro desde cada estado en un tiempo dado. Al combinar estos dos pasos, el algoritmo Forward-Backward obtiene las probabilidades de los estados en cada momento, teniendo en cuenta tanto el pasado como el futuro. Los resultados muestran que en el primer paso, la probabilidad de que el clima sea soleado (Sunny) es significativamente mayor que el de lluvia (Rainy), y estas probabilidades cambian conforme avanza la secuencia de observaciones. Este análisis es útil para tareas como la estimación de estados ocultos y la predicción de secuencias futuras en sistemas probabilísticos."
   ]
  }
 ],
 "metadata": {
  "kernelspec": {
   "display_name": "Python 3",
   "language": "python",
   "name": "python3"
  },
  "language_info": {
   "codemirror_mode": {
    "name": "ipython",
    "version": 3
   },
   "file_extension": ".py",
   "mimetype": "text/x-python",
   "name": "python",
   "nbconvert_exporter": "python",
   "pygments_lexer": "ipython3",
   "version": "3.11.9"
  }
 },
 "nbformat": 4,
 "nbformat_minor": 5
}
